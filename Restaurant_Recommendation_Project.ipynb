{
 "cells": [
  {
   "cell_type": "code",
   "execution_count": 1,
   "id": "598d0c27",
   "metadata": {},
   "outputs": [],
   "source": [
    "import pandas as pd\n",
    "import matplotlib.pyplot as plt\n",
    "import seaborn as sns"
   ]
  },
  {
   "cell_type": "code",
   "execution_count": 2,
   "id": "6c173e7f",
   "metadata": {},
   "outputs": [],
   "source": [
    "data = pd.read_excel('/Users/parvezshahshaik/Documents/Github/restaurant_recommendation/restaurent_data/data.xlsx')"
   ]
  },
  {
   "cell_type": "code",
   "execution_count": 3,
   "id": "eeb7e094",
   "metadata": {},
   "outputs": [
    {
     "name": "stdout",
     "output_type": "stream",
     "text": [
      "<class 'pandas.core.frame.DataFrame'>\n",
      "RangeIndex: 9551 entries, 0 to 9550\n",
      "Data columns (total 19 columns):\n",
      " #   Column                Non-Null Count  Dtype  \n",
      "---  ------                --------------  -----  \n",
      " 0   Restaurant ID         9551 non-null   int64  \n",
      " 1   Restaurant Name       9550 non-null   object \n",
      " 2   Country Code          9551 non-null   int64  \n",
      " 3   City                  9551 non-null   object \n",
      " 4   Address               9551 non-null   object \n",
      " 5   Locality              9551 non-null   object \n",
      " 6   Locality Verbose      9551 non-null   object \n",
      " 7   Longitude             9551 non-null   float64\n",
      " 8   Latitude              9551 non-null   float64\n",
      " 9   Cuisines              9542 non-null   object \n",
      " 10  Average Cost for two  9551 non-null   int64  \n",
      " 11  Currency              9551 non-null   object \n",
      " 12  Has Table booking     9551 non-null   object \n",
      " 13  Has Online delivery   9551 non-null   object \n",
      " 14  Price range           9551 non-null   int64  \n",
      " 15  Aggregate rating      9551 non-null   float64\n",
      " 16  Rating color          9551 non-null   object \n",
      " 17  Rating text           9551 non-null   object \n",
      " 18  Votes                 9551 non-null   int64  \n",
      "dtypes: float64(3), int64(5), object(11)\n",
      "memory usage: 1.4+ MB\n"
     ]
    }
   ],
   "source": [
    "data.info()"
   ]
  },
  {
   "cell_type": "code",
   "execution_count": 4,
   "id": "a8ef80cd",
   "metadata": {},
   "outputs": [],
   "source": [
    "data.columns = data.columns.str.replace(' ','_')"
   ]
  },
  {
   "cell_type": "code",
   "execution_count": 5,
   "id": "ba7cc1cf",
   "metadata": {},
   "outputs": [
    {
     "name": "stdout",
     "output_type": "stream",
     "text": [
      "<class 'pandas.core.frame.DataFrame'>\n",
      "RangeIndex: 9551 entries, 0 to 9550\n",
      "Data columns (total 19 columns):\n",
      " #   Column                Non-Null Count  Dtype  \n",
      "---  ------                --------------  -----  \n",
      " 0   Restaurant_ID         9551 non-null   int64  \n",
      " 1   Restaurant_Name       9550 non-null   object \n",
      " 2   Country_Code          9551 non-null   int64  \n",
      " 3   City                  9551 non-null   object \n",
      " 4   Address               9551 non-null   object \n",
      " 5   Locality              9551 non-null   object \n",
      " 6   Locality_Verbose      9551 non-null   object \n",
      " 7   Longitude             9551 non-null   float64\n",
      " 8   Latitude              9551 non-null   float64\n",
      " 9   Cuisines              9542 non-null   object \n",
      " 10  Average_Cost_for_two  9551 non-null   int64  \n",
      " 11  Currency              9551 non-null   object \n",
      " 12  Has_Table_booking     9551 non-null   object \n",
      " 13  Has_Online_delivery   9551 non-null   object \n",
      " 14  Price_range           9551 non-null   int64  \n",
      " 15  Aggregate_rating      9551 non-null   float64\n",
      " 16  Rating_color          9551 non-null   object \n",
      " 17  Rating_text           9551 non-null   object \n",
      " 18  Votes                 9551 non-null   int64  \n",
      "dtypes: float64(3), int64(5), object(11)\n",
      "memory usage: 1.4+ MB\n"
     ]
    }
   ],
   "source": [
    "data.info()"
   ]
  },
  {
   "cell_type": "code",
   "execution_count": 6,
   "id": "fb6cc717",
   "metadata": {},
   "outputs": [
    {
     "data": {
      "text/plain": [
       "Restaurant_ID              0\n",
       "Restaurant_Name            0\n",
       "Country_Code               0\n",
       "City                       0\n",
       "Address                    0\n",
       "Locality                   0\n",
       "Locality_Verbose           0\n",
       "Longitude                498\n",
       "Latitude                 498\n",
       "Cuisines                   0\n",
       "Average_Cost_for_two      18\n",
       "Currency                   0\n",
       "Has_Table_booking          0\n",
       "Has_Online_delivery        0\n",
       "Price_range                0\n",
       "Aggregate_rating        2148\n",
       "Rating_color               0\n",
       "Rating_text                0\n",
       "Votes                   1094\n",
       "dtype: int64"
      ]
     },
     "execution_count": 6,
     "metadata": {},
     "output_type": "execute_result"
    }
   ],
   "source": [
    "(data == 0).sum()"
   ]
  },
  {
   "cell_type": "code",
   "execution_count": 7,
   "id": "b35ced73",
   "metadata": {},
   "outputs": [
    {
     "data": {
      "text/plain": [
       "28"
      ]
     },
     "execution_count": 7,
     "metadata": {},
     "output_type": "execute_result"
    }
   ],
   "source": [
    "missing_city = data[(data.Longitude ==0) | (data.Latitude ==0)].City.unique()\n",
    "len(missing_city)"
   ]
  },
  {
   "cell_type": "code",
   "execution_count": null,
   "id": "77a679e7",
   "metadata": {},
   "outputs": [],
   "source": []
  }
 ],
 "metadata": {
  "kernelspec": {
   "display_name": "Python 3 (ipykernel)",
   "language": "python",
   "name": "python3"
  },
  "language_info": {
   "codemirror_mode": {
    "name": "ipython",
    "version": 3
   },
   "file_extension": ".py",
   "mimetype": "text/x-python",
   "name": "python",
   "nbconvert_exporter": "python",
   "pygments_lexer": "ipython3",
   "version": "3.11.5"
  }
 },
 "nbformat": 4,
 "nbformat_minor": 5
}
